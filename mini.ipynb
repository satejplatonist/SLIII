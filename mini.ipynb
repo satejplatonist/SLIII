{
 "cells": [
  {
   "cell_type": "code",
   "execution_count": 38,
   "metadata": {},
   "outputs": [],
   "source": [
    "import pandas as pd\n",
    "import numpy as np"
   ]
  },
  {
   "cell_type": "code",
   "execution_count": 39,
   "metadata": {},
   "outputs": [
    {
     "name": "stderr",
     "output_type": "stream",
     "text": [
      "C:\\Users\\ASUS\\AppData\\Local\\Temp\\ipykernel_10540\\2122737069.py:1: DtypeWarning: Columns (22) have mixed types. Specify dtype option on import or set low_memory=False.\n",
      "  tweets = pd.read_csv(\"tweets.csv\")\n"
     ]
    }
   ],
   "source": [
    "tweets = pd.read_csv(\"tweets.csv\")"
   ]
  },
  {
   "cell_type": "code",
   "execution_count": 40,
   "metadata": {},
   "outputs": [
    {
     "data": {
      "text/html": [
       "<div>\n",
       "<style scoped>\n",
       "    .dataframe tbody tr th:only-of-type {\n",
       "        vertical-align: middle;\n",
       "    }\n",
       "\n",
       "    .dataframe tbody tr th {\n",
       "        vertical-align: top;\n",
       "    }\n",
       "\n",
       "    .dataframe thead th {\n",
       "        text-align: right;\n",
       "    }\n",
       "</style>\n",
       "<table border=\"1\" class=\"dataframe\">\n",
       "  <thead>\n",
       "    <tr style=\"text-align: right;\">\n",
       "      <th></th>\n",
       "      <th>id</th>\n",
       "      <th>conversation_id</th>\n",
       "      <th>created_at</th>\n",
       "      <th>date</th>\n",
       "      <th>time</th>\n",
       "      <th>timezone</th>\n",
       "      <th>user_id</th>\n",
       "      <th>username</th>\n",
       "      <th>name</th>\n",
       "      <th>place</th>\n",
       "      <th>...</th>\n",
       "      <th>geo</th>\n",
       "      <th>source</th>\n",
       "      <th>user_rt_id</th>\n",
       "      <th>user_rt</th>\n",
       "      <th>retweet_id</th>\n",
       "      <th>reply_to</th>\n",
       "      <th>retweet_date</th>\n",
       "      <th>translate</th>\n",
       "      <th>trans_src</th>\n",
       "      <th>trans_dest</th>\n",
       "    </tr>\n",
       "  </thead>\n",
       "  <tbody>\n",
       "    <tr>\n",
       "      <th>0</th>\n",
       "      <td>1406397735792791556</td>\n",
       "      <td>1406397735792791556</td>\n",
       "      <td>2021-06-20 05:15:24 IST</td>\n",
       "      <td>2021-06-20</td>\n",
       "      <td>05:15:24</td>\n",
       "      <td>530</td>\n",
       "      <td>16001827</td>\n",
       "      <td>spj_tweets</td>\n",
       "      <td>Society of Professional Journalists</td>\n",
       "      <td>NaN</td>\n",
       "      <td>...</td>\n",
       "      <td>NaN</td>\n",
       "      <td>NaN</td>\n",
       "      <td>NaN</td>\n",
       "      <td>NaN</td>\n",
       "      <td>NaN</td>\n",
       "      <td>[]</td>\n",
       "      <td>NaN</td>\n",
       "      <td>NaN</td>\n",
       "      <td>NaN</td>\n",
       "      <td>NaN</td>\n",
       "    </tr>\n",
       "    <tr>\n",
       "      <th>1</th>\n",
       "      <td>1406057066058313733</td>\n",
       "      <td>1406057066058313733</td>\n",
       "      <td>2021-06-19 06:41:42 IST</td>\n",
       "      <td>2021-06-19</td>\n",
       "      <td>06:41:42</td>\n",
       "      <td>530</td>\n",
       "      <td>1067308099</td>\n",
       "      <td>coastguardph</td>\n",
       "      <td>Philippine Coast Guard</td>\n",
       "      <td>NaN</td>\n",
       "      <td>...</td>\n",
       "      <td>NaN</td>\n",
       "      <td>NaN</td>\n",
       "      <td>NaN</td>\n",
       "      <td>NaN</td>\n",
       "      <td>NaN</td>\n",
       "      <td>[]</td>\n",
       "      <td>NaN</td>\n",
       "      <td>NaN</td>\n",
       "      <td>NaN</td>\n",
       "      <td>NaN</td>\n",
       "    </tr>\n",
       "    <tr>\n",
       "      <th>2</th>\n",
       "      <td>1405965100993986561</td>\n",
       "      <td>1405965100993986561</td>\n",
       "      <td>2021-06-19 00:36:16 IST</td>\n",
       "      <td>2021-06-19</td>\n",
       "      <td>00:36:16</td>\n",
       "      <td>530</td>\n",
       "      <td>167406704</td>\n",
       "      <td>yaelkohen</td>\n",
       "      <td>Yael Kohen</td>\n",
       "      <td>NaN</td>\n",
       "      <td>...</td>\n",
       "      <td>NaN</td>\n",
       "      <td>NaN</td>\n",
       "      <td>NaN</td>\n",
       "      <td>NaN</td>\n",
       "      <td>NaN</td>\n",
       "      <td>[]</td>\n",
       "      <td>NaN</td>\n",
       "      <td>NaN</td>\n",
       "      <td>NaN</td>\n",
       "      <td>NaN</td>\n",
       "    </tr>\n",
       "    <tr>\n",
       "      <th>3</th>\n",
       "      <td>1405935463374991366</td>\n",
       "      <td>1405935461042958338</td>\n",
       "      <td>2021-06-18 22:38:30 IST</td>\n",
       "      <td>2021-06-18</td>\n",
       "      <td>22:38:30</td>\n",
       "      <td>530</td>\n",
       "      <td>29206490</td>\n",
       "      <td>ieeeusa</td>\n",
       "      <td>IEEE-USA</td>\n",
       "      <td>NaN</td>\n",
       "      <td>...</td>\n",
       "      <td>NaN</td>\n",
       "      <td>NaN</td>\n",
       "      <td>NaN</td>\n",
       "      <td>NaN</td>\n",
       "      <td>NaN</td>\n",
       "      <td>[]</td>\n",
       "      <td>NaN</td>\n",
       "      <td>NaN</td>\n",
       "      <td>NaN</td>\n",
       "      <td>NaN</td>\n",
       "    </tr>\n",
       "    <tr>\n",
       "      <th>4</th>\n",
       "      <td>1405918849329991694</td>\n",
       "      <td>1405918849329991694</td>\n",
       "      <td>2021-06-18 21:32:29 IST</td>\n",
       "      <td>2021-06-18</td>\n",
       "      <td>21:32:29</td>\n",
       "      <td>530</td>\n",
       "      <td>31696962</td>\n",
       "      <td>dw_europe</td>\n",
       "      <td>DW Europe</td>\n",
       "      <td>NaN</td>\n",
       "      <td>...</td>\n",
       "      <td>NaN</td>\n",
       "      <td>NaN</td>\n",
       "      <td>NaN</td>\n",
       "      <td>NaN</td>\n",
       "      <td>NaN</td>\n",
       "      <td>[]</td>\n",
       "      <td>NaN</td>\n",
       "      <td>NaN</td>\n",
       "      <td>NaN</td>\n",
       "      <td>NaN</td>\n",
       "    </tr>\n",
       "  </tbody>\n",
       "</table>\n",
       "<p>5 rows × 36 columns</p>\n",
       "</div>"
      ],
      "text/plain": [
       "                    id      conversation_id               created_at  \\\n",
       "0  1406397735792791556  1406397735792791556  2021-06-20 05:15:24 IST   \n",
       "1  1406057066058313733  1406057066058313733  2021-06-19 06:41:42 IST   \n",
       "2  1405965100993986561  1405965100993986561  2021-06-19 00:36:16 IST   \n",
       "3  1405935463374991366  1405935461042958338  2021-06-18 22:38:30 IST   \n",
       "4  1405918849329991694  1405918849329991694  2021-06-18 21:32:29 IST   \n",
       "\n",
       "         date      time  timezone     user_id      username  \\\n",
       "0  2021-06-20  05:15:24       530    16001827    spj_tweets   \n",
       "1  2021-06-19  06:41:42       530  1067308099  coastguardph   \n",
       "2  2021-06-19  00:36:16       530   167406704     yaelkohen   \n",
       "3  2021-06-18  22:38:30       530    29206490       ieeeusa   \n",
       "4  2021-06-18  21:32:29       530    31696962     dw_europe   \n",
       "\n",
       "                                  name place  ... geo source user_rt_id  \\\n",
       "0  Society of Professional Journalists   NaN  ... NaN    NaN        NaN   \n",
       "1               Philippine Coast Guard   NaN  ... NaN    NaN        NaN   \n",
       "2                           Yael Kohen   NaN  ... NaN    NaN        NaN   \n",
       "3                             IEEE-USA   NaN  ... NaN    NaN        NaN   \n",
       "4                            DW Europe   NaN  ... NaN    NaN        NaN   \n",
       "\n",
       "  user_rt retweet_id  reply_to  retweet_date  translate trans_src trans_dest  \n",
       "0     NaN        NaN        []           NaN        NaN       NaN        NaN  \n",
       "1     NaN        NaN        []           NaN        NaN       NaN        NaN  \n",
       "2     NaN        NaN        []           NaN        NaN       NaN        NaN  \n",
       "3     NaN        NaN        []           NaN        NaN       NaN        NaN  \n",
       "4     NaN        NaN        []           NaN        NaN       NaN        NaN  \n",
       "\n",
       "[5 rows x 36 columns]"
      ]
     },
     "execution_count": 40,
     "metadata": {},
     "output_type": "execute_result"
    }
   ],
   "source": [
    "tweets.head()"
   ]
  },
  {
   "cell_type": "code",
   "execution_count": 41,
   "metadata": {},
   "outputs": [
    {
     "name": "stdout",
     "output_type": "stream",
     "text": [
      "<class 'pandas.core.frame.DataFrame'>\n",
      "RangeIndex: 39116 entries, 0 to 39115\n",
      "Data columns (total 36 columns):\n",
      " #   Column           Non-Null Count  Dtype  \n",
      "---  ------           --------------  -----  \n",
      " 0   id               39116 non-null  int64  \n",
      " 1   conversation_id  39116 non-null  int64  \n",
      " 2   created_at       39116 non-null  object \n",
      " 3   date             39116 non-null  object \n",
      " 4   time             39116 non-null  object \n",
      " 5   timezone         39116 non-null  int64  \n",
      " 6   user_id          39116 non-null  int64  \n",
      " 7   username         39116 non-null  object \n",
      " 8   name             39116 non-null  object \n",
      " 9   place            92 non-null     object \n",
      " 10  tweet            39116 non-null  object \n",
      " 11  language         39116 non-null  object \n",
      " 12  mentions         39116 non-null  object \n",
      " 13  urls             39116 non-null  object \n",
      " 14  photos           39116 non-null  object \n",
      " 15  replies_count    39116 non-null  int64  \n",
      " 16  retweets_count   39116 non-null  int64  \n",
      " 17  likes_count      39116 non-null  int64  \n",
      " 18  hashtags         39116 non-null  object \n",
      " 19  cashtags         39116 non-null  object \n",
      " 20  link             39116 non-null  object \n",
      " 21  retweet          39116 non-null  bool   \n",
      " 22  quote_url        1622 non-null   object \n",
      " 23  video            39116 non-null  int64  \n",
      " 24  thumbnail        11142 non-null  object \n",
      " 25  near             0 non-null      float64\n",
      " 26  geo              0 non-null      float64\n",
      " 27  source           0 non-null      float64\n",
      " 28  user_rt_id       0 non-null      float64\n",
      " 29  user_rt          0 non-null      float64\n",
      " 30  retweet_id       0 non-null      float64\n",
      " 31  reply_to         39116 non-null  object \n",
      " 32  retweet_date     0 non-null      float64\n",
      " 33  translate        0 non-null      float64\n",
      " 34  trans_src        0 non-null      float64\n",
      " 35  trans_dest       0 non-null      float64\n",
      "dtypes: bool(1), float64(10), int64(8), object(17)\n",
      "memory usage: 10.5+ MB\n"
     ]
    }
   ],
   "source": [
    "tweets.info()"
   ]
  },
  {
   "cell_type": "code",
   "execution_count": 42,
   "metadata": {},
   "outputs": [
    {
     "data": {
      "text/html": [
       "<div>\n",
       "<style scoped>\n",
       "    .dataframe tbody tr th:only-of-type {\n",
       "        vertical-align: middle;\n",
       "    }\n",
       "\n",
       "    .dataframe tbody tr th {\n",
       "        vertical-align: top;\n",
       "    }\n",
       "\n",
       "    .dataframe thead th {\n",
       "        text-align: right;\n",
       "    }\n",
       "</style>\n",
       "<table border=\"1\" class=\"dataframe\">\n",
       "  <thead>\n",
       "    <tr style=\"text-align: right;\">\n",
       "      <th></th>\n",
       "      <th>id</th>\n",
       "      <th>conversation_id</th>\n",
       "      <th>timezone</th>\n",
       "      <th>user_id</th>\n",
       "      <th>replies_count</th>\n",
       "      <th>retweets_count</th>\n",
       "      <th>likes_count</th>\n",
       "      <th>video</th>\n",
       "      <th>near</th>\n",
       "      <th>geo</th>\n",
       "      <th>source</th>\n",
       "      <th>user_rt_id</th>\n",
       "      <th>user_rt</th>\n",
       "      <th>retweet_id</th>\n",
       "      <th>retweet_date</th>\n",
       "      <th>translate</th>\n",
       "      <th>trans_src</th>\n",
       "      <th>trans_dest</th>\n",
       "    </tr>\n",
       "  </thead>\n",
       "  <tbody>\n",
       "    <tr>\n",
       "      <th>count</th>\n",
       "      <td>3.911600e+04</td>\n",
       "      <td>3.911600e+04</td>\n",
       "      <td>39116.0</td>\n",
       "      <td>3.911600e+04</td>\n",
       "      <td>39116.000000</td>\n",
       "      <td>39116.000000</td>\n",
       "      <td>39116.000000</td>\n",
       "      <td>39116.000000</td>\n",
       "      <td>0.0</td>\n",
       "      <td>0.0</td>\n",
       "      <td>0.0</td>\n",
       "      <td>0.0</td>\n",
       "      <td>0.0</td>\n",
       "      <td>0.0</td>\n",
       "      <td>0.0</td>\n",
       "      <td>0.0</td>\n",
       "      <td>0.0</td>\n",
       "      <td>0.0</td>\n",
       "    </tr>\n",
       "    <tr>\n",
       "      <th>mean</th>\n",
       "      <td>8.529895e+17</td>\n",
       "      <td>8.528658e+17</td>\n",
       "      <td>530.0</td>\n",
       "      <td>3.371448e+16</td>\n",
       "      <td>1.173177</td>\n",
       "      <td>6.816367</td>\n",
       "      <td>17.193936</td>\n",
       "      <td>0.284845</td>\n",
       "      <td>NaN</td>\n",
       "      <td>NaN</td>\n",
       "      <td>NaN</td>\n",
       "      <td>NaN</td>\n",
       "      <td>NaN</td>\n",
       "      <td>NaN</td>\n",
       "      <td>NaN</td>\n",
       "      <td>NaN</td>\n",
       "      <td>NaN</td>\n",
       "      <td>NaN</td>\n",
       "    </tr>\n",
       "    <tr>\n",
       "      <th>std</th>\n",
       "      <td>3.753083e+17</td>\n",
       "      <td>3.752712e+17</td>\n",
       "      <td>0.0</td>\n",
       "      <td>1.677657e+17</td>\n",
       "      <td>17.406322</td>\n",
       "      <td>82.008708</td>\n",
       "      <td>325.298354</td>\n",
       "      <td>0.451346</td>\n",
       "      <td>NaN</td>\n",
       "      <td>NaN</td>\n",
       "      <td>NaN</td>\n",
       "      <td>NaN</td>\n",
       "      <td>NaN</td>\n",
       "      <td>NaN</td>\n",
       "      <td>NaN</td>\n",
       "      <td>NaN</td>\n",
       "      <td>NaN</td>\n",
       "      <td>NaN</td>\n",
       "    </tr>\n",
       "    <tr>\n",
       "      <th>min</th>\n",
       "      <td>7.274159e+09</td>\n",
       "      <td>7.274159e+09</td>\n",
       "      <td>530.0</td>\n",
       "      <td>5.700000e+01</td>\n",
       "      <td>0.000000</td>\n",
       "      <td>0.000000</td>\n",
       "      <td>0.000000</td>\n",
       "      <td>0.000000</td>\n",
       "      <td>NaN</td>\n",
       "      <td>NaN</td>\n",
       "      <td>NaN</td>\n",
       "      <td>NaN</td>\n",
       "      <td>NaN</td>\n",
       "      <td>NaN</td>\n",
       "      <td>NaN</td>\n",
       "      <td>NaN</td>\n",
       "      <td>NaN</td>\n",
       "      <td>NaN</td>\n",
       "    </tr>\n",
       "    <tr>\n",
       "      <th>25%</th>\n",
       "      <td>5.634323e+17</td>\n",
       "      <td>5.633892e+17</td>\n",
       "      <td>530.0</td>\n",
       "      <td>1.888285e+07</td>\n",
       "      <td>0.000000</td>\n",
       "      <td>0.000000</td>\n",
       "      <td>0.000000</td>\n",
       "      <td>0.000000</td>\n",
       "      <td>NaN</td>\n",
       "      <td>NaN</td>\n",
       "      <td>NaN</td>\n",
       "      <td>NaN</td>\n",
       "      <td>NaN</td>\n",
       "      <td>NaN</td>\n",
       "      <td>NaN</td>\n",
       "      <td>NaN</td>\n",
       "      <td>NaN</td>\n",
       "      <td>NaN</td>\n",
       "    </tr>\n",
       "    <tr>\n",
       "      <th>50%</th>\n",
       "      <td>9.230327e+17</td>\n",
       "      <td>9.227345e+17</td>\n",
       "      <td>530.0</td>\n",
       "      <td>6.899645e+07</td>\n",
       "      <td>0.000000</td>\n",
       "      <td>1.000000</td>\n",
       "      <td>2.000000</td>\n",
       "      <td>0.000000</td>\n",
       "      <td>NaN</td>\n",
       "      <td>NaN</td>\n",
       "      <td>NaN</td>\n",
       "      <td>NaN</td>\n",
       "      <td>NaN</td>\n",
       "      <td>NaN</td>\n",
       "      <td>NaN</td>\n",
       "      <td>NaN</td>\n",
       "      <td>NaN</td>\n",
       "      <td>NaN</td>\n",
       "    </tr>\n",
       "    <tr>\n",
       "      <th>75%</th>\n",
       "      <td>1.170864e+18</td>\n",
       "      <td>1.170734e+18</td>\n",
       "      <td>530.0</td>\n",
       "      <td>3.269122e+08</td>\n",
       "      <td>1.000000</td>\n",
       "      <td>3.000000</td>\n",
       "      <td>6.000000</td>\n",
       "      <td>1.000000</td>\n",
       "      <td>NaN</td>\n",
       "      <td>NaN</td>\n",
       "      <td>NaN</td>\n",
       "      <td>NaN</td>\n",
       "      <td>NaN</td>\n",
       "      <td>NaN</td>\n",
       "      <td>NaN</td>\n",
       "      <td>NaN</td>\n",
       "      <td>NaN</td>\n",
       "      <td>NaN</td>\n",
       "    </tr>\n",
       "    <tr>\n",
       "      <th>max</th>\n",
       "      <td>1.406398e+18</td>\n",
       "      <td>1.406398e+18</td>\n",
       "      <td>530.0</td>\n",
       "      <td>1.364614e+18</td>\n",
       "      <td>2319.000000</td>\n",
       "      <td>12617.000000</td>\n",
       "      <td>57425.000000</td>\n",
       "      <td>1.000000</td>\n",
       "      <td>NaN</td>\n",
       "      <td>NaN</td>\n",
       "      <td>NaN</td>\n",
       "      <td>NaN</td>\n",
       "      <td>NaN</td>\n",
       "      <td>NaN</td>\n",
       "      <td>NaN</td>\n",
       "      <td>NaN</td>\n",
       "      <td>NaN</td>\n",
       "      <td>NaN</td>\n",
       "    </tr>\n",
       "  </tbody>\n",
       "</table>\n",
       "</div>"
      ],
      "text/plain": [
       "                 id  conversation_id  timezone       user_id  replies_count  \\\n",
       "count  3.911600e+04     3.911600e+04   39116.0  3.911600e+04   39116.000000   \n",
       "mean   8.529895e+17     8.528658e+17     530.0  3.371448e+16       1.173177   \n",
       "std    3.753083e+17     3.752712e+17       0.0  1.677657e+17      17.406322   \n",
       "min    7.274159e+09     7.274159e+09     530.0  5.700000e+01       0.000000   \n",
       "25%    5.634323e+17     5.633892e+17     530.0  1.888285e+07       0.000000   \n",
       "50%    9.230327e+17     9.227345e+17     530.0  6.899645e+07       0.000000   \n",
       "75%    1.170864e+18     1.170734e+18     530.0  3.269122e+08       1.000000   \n",
       "max    1.406398e+18     1.406398e+18     530.0  1.364614e+18    2319.000000   \n",
       "\n",
       "       retweets_count   likes_count         video  near  geo  source  \\\n",
       "count    39116.000000  39116.000000  39116.000000   0.0  0.0     0.0   \n",
       "mean         6.816367     17.193936      0.284845   NaN  NaN     NaN   \n",
       "std         82.008708    325.298354      0.451346   NaN  NaN     NaN   \n",
       "min          0.000000      0.000000      0.000000   NaN  NaN     NaN   \n",
       "25%          0.000000      0.000000      0.000000   NaN  NaN     NaN   \n",
       "50%          1.000000      2.000000      0.000000   NaN  NaN     NaN   \n",
       "75%          3.000000      6.000000      1.000000   NaN  NaN     NaN   \n",
       "max      12617.000000  57425.000000      1.000000   NaN  NaN     NaN   \n",
       "\n",
       "       user_rt_id  user_rt  retweet_id  retweet_date  translate  trans_src  \\\n",
       "count         0.0      0.0         0.0           0.0        0.0        0.0   \n",
       "mean          NaN      NaN         NaN           NaN        NaN        NaN   \n",
       "std           NaN      NaN         NaN           NaN        NaN        NaN   \n",
       "min           NaN      NaN         NaN           NaN        NaN        NaN   \n",
       "25%           NaN      NaN         NaN           NaN        NaN        NaN   \n",
       "50%           NaN      NaN         NaN           NaN        NaN        NaN   \n",
       "75%           NaN      NaN         NaN           NaN        NaN        NaN   \n",
       "max           NaN      NaN         NaN           NaN        NaN        NaN   \n",
       "\n",
       "       trans_dest  \n",
       "count         0.0  \n",
       "mean          NaN  \n",
       "std           NaN  \n",
       "min           NaN  \n",
       "25%           NaN  \n",
       "50%           NaN  \n",
       "75%           NaN  \n",
       "max           NaN  "
      ]
     },
     "execution_count": 42,
     "metadata": {},
     "output_type": "execute_result"
    }
   ],
   "source": [
    "tweets.describe()"
   ]
  },
  {
   "cell_type": "code",
   "execution_count": 43,
   "metadata": {},
   "outputs": [
    {
     "data": {
      "text/plain": [
       "(39116, 36)"
      ]
     },
     "execution_count": 43,
     "metadata": {},
     "output_type": "execute_result"
    }
   ],
   "source": [
    "tweets.shape"
   ]
  },
  {
   "cell_type": "code",
   "execution_count": 44,
   "metadata": {},
   "outputs": [
    {
     "name": "stdout",
     "output_type": "stream",
     "text": [
      "Index(['id', 'conversation_id', 'created_at', 'date', 'time', 'timezone',\n",
      "       'user_id', 'username', 'name', 'place', 'tweet', 'language', 'mentions',\n",
      "       'urls', 'photos', 'replies_count', 'retweets_count', 'likes_count',\n",
      "       'hashtags', 'cashtags', 'link', 'retweet', 'quote_url', 'video',\n",
      "       'thumbnail', 'near', 'geo', 'source', 'user_rt_id', 'user_rt',\n",
      "       'retweet_id', 'reply_to', 'retweet_date', 'translate', 'trans_src',\n",
      "       'trans_dest'],\n",
      "      dtype='object')\n"
     ]
    }
   ],
   "source": [
    "print(tweets.columns)"
   ]
  },
  {
   "cell_type": "code",
   "execution_count": 45,
   "metadata": {},
   "outputs": [
    {
     "data": {
      "text/plain": [
       "'The DDMS project, funded by @smart_eureka through @Entirl, looks to help #manufacturing companies to improve their asset #maintenance strategy, by exploiting the potential of #dataanalysis of #machinedata in maintenance.   https://t.co/a5RxKxBbDT'"
      ]
     },
     "execution_count": 45,
     "metadata": {},
     "output_type": "execute_result"
    }
   ],
   "source": [
    "tweets['tweet'][10]"
   ]
  },
  {
   "cell_type": "code",
   "execution_count": 46,
   "metadata": {},
   "outputs": [
    {
     "name": "stderr",
     "output_type": "stream",
     "text": [
      "[nltk_data] Downloading package vader_lexicon to\n",
      "[nltk_data]     C:\\Users\\ASUS\\AppData\\Roaming\\nltk_data...\n",
      "[nltk_data]   Package vader_lexicon is already up-to-date!\n",
      "[nltk_data] Downloading package words to\n",
      "[nltk_data]     C:\\Users\\ASUS\\AppData\\Roaming\\nltk_data...\n",
      "[nltk_data]   Package words is already up-to-date!\n"
     ]
    }
   ],
   "source": [
    "import nltk\n",
    "nltk.download('vader_lexicon')\n",
    "from nltk.sentiment.vader import SentimentIntensityAnalyzer\n",
    "\n",
    "sid = SentimentIntensityAnalyzer()\n",
    "\n",
    "import re\n",
    "import pandas as pd\n",
    "import nltk\n",
    "nltk.download('words')\n",
    "words = set(nltk.corpus.words.words())"
   ]
  },
  {
   "cell_type": "code",
   "execution_count": 47,
   "metadata": {},
   "outputs": [
    {
     "data": {
      "text/plain": [
       "0.0772"
      ]
     },
     "execution_count": 47,
     "metadata": {},
     "output_type": "execute_result"
    }
   ],
   "source": [
    "sentence = tweets['tweet'][0]\n",
    "sid.polarity_scores(sentence)['compound']"
   ]
  },
  {
   "cell_type": "code",
   "execution_count": 48,
   "metadata": {},
   "outputs": [],
   "source": [
    "def cleaner(tweet):\n",
    "    tweet = re.sub(\"@[A-Za-z0-9]+\",\"\",tweet) #Remove @ sign\n",
    "    tweet = re.sub(r\"(?:\\@|http?\\://|https?\\://|www)\\S+\", \"\", tweet) #Remove http links\n",
    "    tweet = \" \".join(tweet.split())\n",
    "    tweet = tweet.replace(\"#\", \"\").replace(\"_\", \" \") #Remove hashtag sign but keep the text\n",
    "    tweet = \" \".join(w for w in nltk.wordpunct_tokenize(tweet)\n",
    "         if w.lower() in words or not w.isalpha())\n",
    "    return tweet\n",
    "    \n",
    "\n",
    "tweets['tweet_clean'] = tweets['tweet'].apply(cleaner)"
   ]
  },
  {
   "cell_type": "code",
   "execution_count": 49,
   "metadata": {},
   "outputs": [
    {
     "name": "stderr",
     "output_type": "stream",
     "text": [
      "[nltk_data] Downloading package vader_lexicon to\n",
      "[nltk_data]     C:\\Users\\ASUS\\AppData\\Roaming\\nltk_data...\n",
      "[nltk_data]   Package vader_lexicon is already up-to-date!\n"
     ]
    }
   ],
   "source": [
    "word_dict = {'manipulate':-1,'manipulative':-1,'jamescharlesiscancelled':-1,'jamescharlesisoverparty':-1,\n",
    "            'pedophile':-1,'pedo':-1,'cancel':-1,'cancelled':-1,'cancel culture':0.4,'teamtati':-1,'teamjames':1,\n",
    "            'teamjamescharles':1,'liar':-1}\n",
    "\n",
    "import nltk\n",
    "nltk.download('vader_lexicon')\n",
    "from nltk.sentiment.vader import SentimentIntensityAnalyzer\n",
    "\n",
    "sid = SentimentIntensityAnalyzer()\n",
    "sid.lexicon.update(word_dict)\n",
    "\n",
    "list1 = []\n",
    "for i in tweets['tweet_clean']:\n",
    "    list1.append((sid.polarity_scores(str(i)))['compound'])"
   ]
  },
  {
   "cell_type": "code",
   "execution_count": 50,
   "metadata": {},
   "outputs": [],
   "source": [
    "tweets['sentiment'] = pd.Series(list1)\n",
    "\n",
    "def sentiment_category(sentiment):\n",
    "    label = ''\n",
    "    if(sentiment>0):\n",
    "        label = 'positive'\n",
    "    elif(sentiment == 0):\n",
    "        label = 'neutral'\n",
    "    else:\n",
    "        label = 'negative'\n",
    "    return(label)\n",
    "\n",
    "tweets['sentiment_category'] = tweets['sentiment'].apply(sentiment_category)"
   ]
  },
  {
   "cell_type": "code",
   "execution_count": 51,
   "metadata": {},
   "outputs": [
    {
     "data": {
      "text/html": [
       "<div>\n",
       "<style scoped>\n",
       "    .dataframe tbody tr th:only-of-type {\n",
       "        vertical-align: middle;\n",
       "    }\n",
       "\n",
       "    .dataframe tbody tr th {\n",
       "        vertical-align: top;\n",
       "    }\n",
       "\n",
       "    .dataframe thead th {\n",
       "        text-align: right;\n",
       "    }\n",
       "</style>\n",
       "<table border=\"1\" class=\"dataframe\">\n",
       "  <thead>\n",
       "    <tr style=\"text-align: right;\">\n",
       "      <th></th>\n",
       "      <th>tweet</th>\n",
       "      <th>date</th>\n",
       "      <th>id</th>\n",
       "      <th>sentiment</th>\n",
       "      <th>sentiment_category</th>\n",
       "    </tr>\n",
       "  </thead>\n",
       "  <tbody>\n",
       "    <tr>\n",
       "      <th>0</th>\n",
       "      <td>Join @SPJ_IC at 6 p.m. EDT Tuesday for the nex...</td>\n",
       "      <td>2021-06-20</td>\n",
       "      <td>1406397735792791556</td>\n",
       "      <td>-0.1779</td>\n",
       "      <td>negative</td>\n",
       "    </tr>\n",
       "    <tr>\n",
       "      <th>1</th>\n",
       "      <td>READ: Resilience, hard work, and perseverance ...</td>\n",
       "      <td>2021-06-19</td>\n",
       "      <td>1406057066058313733</td>\n",
       "      <td>0.3400</td>\n",
       "      <td>positive</td>\n",
       "    </tr>\n",
       "    <tr>\n",
       "      <th>2</th>\n",
       "      <td>How will the shift to streaming impact movie-m...</td>\n",
       "      <td>2021-06-19</td>\n",
       "      <td>1405965100993986561</td>\n",
       "      <td>0.4019</td>\n",
       "      <td>positive</td>\n",
       "    </tr>\n",
       "    <tr>\n",
       "      <th>3</th>\n",
       "      <td>(2/2) to gain the aptitude to find better solu...</td>\n",
       "      <td>2021-06-18</td>\n",
       "      <td>1405935463374991366</td>\n",
       "      <td>0.7430</td>\n",
       "      <td>positive</td>\n",
       "    </tr>\n",
       "    <tr>\n",
       "      <th>4</th>\n",
       "      <td>Alexander Lukashenko is still in power in Bela...</td>\n",
       "      <td>2021-06-18</td>\n",
       "      <td>1405918849329991694</td>\n",
       "      <td>0.0000</td>\n",
       "      <td>neutral</td>\n",
       "    </tr>\n",
       "  </tbody>\n",
       "</table>\n",
       "</div>"
      ],
      "text/plain": [
       "                                               tweet        date  \\\n",
       "0  Join @SPJ_IC at 6 p.m. EDT Tuesday for the nex...  2021-06-20   \n",
       "1  READ: Resilience, hard work, and perseverance ...  2021-06-19   \n",
       "2  How will the shift to streaming impact movie-m...  2021-06-19   \n",
       "3  (2/2) to gain the aptitude to find better solu...  2021-06-18   \n",
       "4  Alexander Lukashenko is still in power in Bela...  2021-06-18   \n",
       "\n",
       "                    id  sentiment sentiment_category  \n",
       "0  1406397735792791556    -0.1779           negative  \n",
       "1  1406057066058313733     0.3400           positive  \n",
       "2  1405965100993986561     0.4019           positive  \n",
       "3  1405935463374991366     0.7430           positive  \n",
       "4  1405918849329991694     0.0000            neutral  "
      ]
     },
     "execution_count": 51,
     "metadata": {},
     "output_type": "execute_result"
    }
   ],
   "source": [
    "tweets = tweets[['tweet','date','id','sentiment','sentiment_category']]\n",
    "tweets.head()"
   ]
  },
  {
   "cell_type": "code",
   "execution_count": 52,
   "metadata": {},
   "outputs": [
    {
     "name": "stdout",
     "output_type": "stream",
     "text": [
      "                                                   tweet        date  \\\n",
      "1      READ: Resilience, hard work, and perseverance ...  2021-06-19   \n",
      "2      How will the shift to streaming impact movie-m...  2021-06-19   \n",
      "3      (2/2) to gain the aptitude to find better solu...  2021-06-18   \n",
      "8      @jplude22 @DJIGlobal We are sorry for the mish...  2021-06-18   \n",
      "10     The DDMS project, funded by @smart_eureka thro...  2021-06-18   \n",
      "...                                                  ...         ...   \n",
      "39101  Time for some good old fashioned data analysis...  2010-01-18   \n",
      "39102  Innovative releases Encore Reporter, a data an...  2010-01-18   \n",
      "39106  Does anyone have access to an NVivo license, o...  2010-01-13   \n",
      "39110  Tweets about Obama:  http://neoformix.com/2010...  2010-01-09   \n",
      "39113  Fellow writers: ever feel like ur head is so o...  2010-01-06   \n",
      "\n",
      "                        id  sentiment sentiment_category  \n",
      "1      1406057066058313733     0.3400           positive  \n",
      "2      1405965100993986561     0.4019           positive  \n",
      "3      1405935463374991366     0.7430           positive  \n",
      "8      1405879652585861124     0.5719           positive  \n",
      "10     1405783599794855942     0.7964           positive  \n",
      "...                    ...        ...                ...  \n",
      "39101           7900776397     0.4404           positive  \n",
      "39102           7900438003     0.4404           positive  \n",
      "39106           7686974936     0.3612           positive  \n",
      "39110           7534775520     0.3804           positive  \n",
      "39113           7416161173     0.3612           positive  \n",
      "\n",
      "[19082 rows x 5 columns]\n"
     ]
    }
   ],
   "source": [
    "print(tweets[tweets['sentiment_category']=='positive'])"
   ]
  },
  {
   "cell_type": "code",
   "execution_count": 53,
   "metadata": {},
   "outputs": [
    {
     "name": "stdout",
     "output_type": "stream",
     "text": [
      "                                                   tweet        date  \\\n",
      "0      Join @SPJ_IC at 6 p.m. EDT Tuesday for the nex...  2021-06-20   \n",
      "5      IN-DEPTH: Alexander Lukashenko, the autocratic...  2021-06-18   \n",
      "16     A lot has been made of the sourcing and data a...  2021-06-18   \n",
      "24     @NOAA and partners create a new product to ass...  2021-06-17   \n",
      "35     Tomorrow’s international donors’ conference fo...  2021-06-16   \n",
      "...                                                  ...         ...   \n",
      "39077  XKCD today shows the danger of doing data anal...  2010-02-12   \n",
      "39091  Data analysis on NM swine flu cases released -...  2010-01-29   \n",
      "39092  Data analysis on NM swine flu cases released- ...  2010-01-28   \n",
      "39096  Applying for a summer job programming and desi...  2010-01-22   \n",
      "39109  How much have state unemployment rates grown s...  2010-01-11   \n",
      "\n",
      "                        id  sentiment sentiment_category  \n",
      "0      1406397735792791556    -0.1779           negative  \n",
      "5      1405913177360146432    -0.1027           negative  \n",
      "16     1405633681994174476    -0.1875           negative  \n",
      "24     1405528231625646092    -0.1779           negative  \n",
      "35     1405151926077906946    -0.3400           negative  \n",
      "...                    ...        ...                ...  \n",
      "39077           9004869723    -0.5267           negative  \n",
      "39091           8337897205    -0.6369           negative  \n",
      "39092           8329693076    -0.6369           negative  \n",
      "39096           8046915257    -0.6597           negative  \n",
      "39109           7620465606    -0.4404           negative  \n",
      "\n",
      "[5459 rows x 5 columns]\n"
     ]
    }
   ],
   "source": [
    "print(tweets[tweets['sentiment_category']=='negative'])"
   ]
  },
  {
   "cell_type": "code",
   "execution_count": 54,
   "metadata": {},
   "outputs": [
    {
     "data": {
      "text/plain": [
       "<Axes: xlabel='sentiment', ylabel='Count'>"
      ]
     },
     "execution_count": 54,
     "metadata": {},
     "output_type": "execute_result"
    },
    {
     "data": {
      "image/png": "[encoded data removed]",
      "text/plain": [
       "<Figure size 640x480 with 1 Axes>"
      ]
     },
     "metadata": {},
     "output_type": "display_data"
    }
   ],
   "source": [
    "import seaborn as sns\n",
    "sns.histplot(x='sentiment',data=tweets)"
   ]
  },
  {
   "cell_type": "code",
   "execution_count": 55,
   "metadata": {},
   "outputs": [
    {
     "data": {
      "text/plain": [
       "<Axes: xlabel='sentiment', ylabel='sentiment_category'>"
      ]
     },
     "execution_count": 55,
     "metadata": {},
     "output_type": "execute_result"
    },
    {
     "data": {
      "image/png": "[encoded data removed]",
      "text/plain": [
       "<Figure size 640x480 with 1 Axes>"
      ]
     },
     "metadata": {},
     "output_type": "display_data"
    }
   ],
   "source": [
    "sns.boxplot(x='sentiment', y='sentiment_category',data=tweets)"
   ]
  }
 ],
 "metadata": {
  "kernelspec": {
   "display_name": "Python 3",
   "language": "python",
   "name": "python3"
  },
  "language_info": {
   "codemirror_mode": {
    "name": "ipython",
    "version": 3
   },
   "file_extension": ".py",
   "mimetype": "text/x-python",
   "name": "python",
   "nbconvert_exporter": "python",
   "pygments_lexer": "ipython3",
   "version": "3.12.3"
  }
 },
 "nbformat": 4,
 "nbformat_minor": 2
}
